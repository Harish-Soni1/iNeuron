{
 "cells": [
  {
   "cell_type": "code",
   "execution_count": 2,
   "metadata": {},
   "outputs": [],
   "source": [
    "import tensorflow as tf\n",
    "import pandas as pd\n",
    "import numpy as np"
   ]
  },
  {
   "cell_type": "code",
   "execution_count": 3,
   "metadata": {},
   "outputs": [],
   "source": [
    "data = pd.read_excel(\"AirQualityUCI.xlsx\")"
   ]
  },
  {
   "cell_type": "code",
   "execution_count": 4,
   "metadata": {},
   "outputs": [
    {
     "data": {
      "text/html": [
       "<div>\n",
       "<style scoped>\n",
       "    .dataframe tbody tr th:only-of-type {\n",
       "        vertical-align: middle;\n",
       "    }\n",
       "\n",
       "    .dataframe tbody tr th {\n",
       "        vertical-align: top;\n",
       "    }\n",
       "\n",
       "    .dataframe thead th {\n",
       "        text-align: right;\n",
       "    }\n",
       "</style>\n",
       "<table border=\"1\" class=\"dataframe\">\n",
       "  <thead>\n",
       "    <tr style=\"text-align: right;\">\n",
       "      <th></th>\n",
       "      <th>Date</th>\n",
       "      <th>Time</th>\n",
       "      <th>CO(GT)</th>\n",
       "      <th>PT08.S1(CO)</th>\n",
       "      <th>NMHC(GT)</th>\n",
       "      <th>C6H6(GT)</th>\n",
       "      <th>PT08.S2(NMHC)</th>\n",
       "      <th>NOx(GT)</th>\n",
       "      <th>PT08.S3(NOx)</th>\n",
       "      <th>NO2(GT)</th>\n",
       "      <th>PT08.S4(NO2)</th>\n",
       "      <th>PT08.S5(O3)</th>\n",
       "      <th>T</th>\n",
       "      <th>RH</th>\n",
       "      <th>AH</th>\n",
       "    </tr>\n",
       "  </thead>\n",
       "  <tbody>\n",
       "    <tr>\n",
       "      <th>0</th>\n",
       "      <td>2004-03-10</td>\n",
       "      <td>18:00:00</td>\n",
       "      <td>2.6</td>\n",
       "      <td>1360.00</td>\n",
       "      <td>150</td>\n",
       "      <td>11.881723</td>\n",
       "      <td>1045.50</td>\n",
       "      <td>166.0</td>\n",
       "      <td>1056.25</td>\n",
       "      <td>113.0</td>\n",
       "      <td>1692.00</td>\n",
       "      <td>1267.50</td>\n",
       "      <td>13.60</td>\n",
       "      <td>48.875001</td>\n",
       "      <td>0.757754</td>\n",
       "    </tr>\n",
       "    <tr>\n",
       "      <th>1</th>\n",
       "      <td>2004-03-10</td>\n",
       "      <td>19:00:00</td>\n",
       "      <td>2.0</td>\n",
       "      <td>1292.25</td>\n",
       "      <td>112</td>\n",
       "      <td>9.397165</td>\n",
       "      <td>954.75</td>\n",
       "      <td>103.0</td>\n",
       "      <td>1173.75</td>\n",
       "      <td>92.0</td>\n",
       "      <td>1558.75</td>\n",
       "      <td>972.25</td>\n",
       "      <td>13.30</td>\n",
       "      <td>47.700000</td>\n",
       "      <td>0.725487</td>\n",
       "    </tr>\n",
       "    <tr>\n",
       "      <th>2</th>\n",
       "      <td>2004-03-10</td>\n",
       "      <td>20:00:00</td>\n",
       "      <td>2.2</td>\n",
       "      <td>1402.00</td>\n",
       "      <td>88</td>\n",
       "      <td>8.997817</td>\n",
       "      <td>939.25</td>\n",
       "      <td>131.0</td>\n",
       "      <td>1140.00</td>\n",
       "      <td>114.0</td>\n",
       "      <td>1554.50</td>\n",
       "      <td>1074.00</td>\n",
       "      <td>11.90</td>\n",
       "      <td>53.975000</td>\n",
       "      <td>0.750239</td>\n",
       "    </tr>\n",
       "    <tr>\n",
       "      <th>3</th>\n",
       "      <td>2004-03-10</td>\n",
       "      <td>21:00:00</td>\n",
       "      <td>2.2</td>\n",
       "      <td>1375.50</td>\n",
       "      <td>80</td>\n",
       "      <td>9.228796</td>\n",
       "      <td>948.25</td>\n",
       "      <td>172.0</td>\n",
       "      <td>1092.00</td>\n",
       "      <td>122.0</td>\n",
       "      <td>1583.75</td>\n",
       "      <td>1203.25</td>\n",
       "      <td>11.00</td>\n",
       "      <td>60.000000</td>\n",
       "      <td>0.786713</td>\n",
       "    </tr>\n",
       "    <tr>\n",
       "      <th>4</th>\n",
       "      <td>2004-03-10</td>\n",
       "      <td>22:00:00</td>\n",
       "      <td>1.6</td>\n",
       "      <td>1272.25</td>\n",
       "      <td>51</td>\n",
       "      <td>6.518224</td>\n",
       "      <td>835.50</td>\n",
       "      <td>131.0</td>\n",
       "      <td>1205.00</td>\n",
       "      <td>116.0</td>\n",
       "      <td>1490.00</td>\n",
       "      <td>1110.00</td>\n",
       "      <td>11.15</td>\n",
       "      <td>59.575001</td>\n",
       "      <td>0.788794</td>\n",
       "    </tr>\n",
       "  </tbody>\n",
       "</table>\n",
       "</div>"
      ],
      "text/plain": [
       "        Date      Time  CO(GT)  PT08.S1(CO)  NMHC(GT)   C6H6(GT)  \\\n",
       "0 2004-03-10  18:00:00     2.6      1360.00       150  11.881723   \n",
       "1 2004-03-10  19:00:00     2.0      1292.25       112   9.397165   \n",
       "2 2004-03-10  20:00:00     2.2      1402.00        88   8.997817   \n",
       "3 2004-03-10  21:00:00     2.2      1375.50        80   9.228796   \n",
       "4 2004-03-10  22:00:00     1.6      1272.25        51   6.518224   \n",
       "\n",
       "   PT08.S2(NMHC)  NOx(GT)  PT08.S3(NOx)  NO2(GT)  PT08.S4(NO2)  PT08.S5(O3)  \\\n",
       "0        1045.50    166.0       1056.25    113.0       1692.00      1267.50   \n",
       "1         954.75    103.0       1173.75     92.0       1558.75       972.25   \n",
       "2         939.25    131.0       1140.00    114.0       1554.50      1074.00   \n",
       "3         948.25    172.0       1092.00    122.0       1583.75      1203.25   \n",
       "4         835.50    131.0       1205.00    116.0       1490.00      1110.00   \n",
       "\n",
       "       T         RH        AH  \n",
       "0  13.60  48.875001  0.757754  \n",
       "1  13.30  47.700000  0.725487  \n",
       "2  11.90  53.975000  0.750239  \n",
       "3  11.00  60.000000  0.786713  \n",
       "4  11.15  59.575001  0.788794  "
      ]
     },
     "execution_count": 4,
     "metadata": {},
     "output_type": "execute_result"
    }
   ],
   "source": [
    "data.head()"
   ]
  },
  {
   "cell_type": "code",
   "execution_count": 5,
   "metadata": {},
   "outputs": [
    {
     "data": {
      "text/plain": [
       "(9357, 15)"
      ]
     },
     "execution_count": 5,
     "metadata": {},
     "output_type": "execute_result"
    }
   ],
   "source": [
    "data.shape"
   ]
  },
  {
   "cell_type": "code",
   "execution_count": 6,
   "metadata": {},
   "outputs": [
    {
     "name": "stdout",
     "output_type": "stream",
     "text": [
      "<class 'pandas.core.frame.DataFrame'>\n",
      "RangeIndex: 9357 entries, 0 to 9356\n",
      "Data columns (total 15 columns):\n",
      " #   Column         Non-Null Count  Dtype         \n",
      "---  ------         --------------  -----         \n",
      " 0   Date           9357 non-null   datetime64[ns]\n",
      " 1   Time           9357 non-null   object        \n",
      " 2   CO(GT)         9357 non-null   float64       \n",
      " 3   PT08.S1(CO)    9357 non-null   float64       \n",
      " 4   NMHC(GT)       9357 non-null   int64         \n",
      " 5   C6H6(GT)       9357 non-null   float64       \n",
      " 6   PT08.S2(NMHC)  9357 non-null   float64       \n",
      " 7   NOx(GT)        9357 non-null   float64       \n",
      " 8   PT08.S3(NOx)   9357 non-null   float64       \n",
      " 9   NO2(GT)        9357 non-null   float64       \n",
      " 10  PT08.S4(NO2)   9357 non-null   float64       \n",
      " 11  PT08.S5(O3)    9357 non-null   float64       \n",
      " 12  T              9357 non-null   float64       \n",
      " 13  RH             9357 non-null   float64       \n",
      " 14  AH             9357 non-null   float64       \n",
      "dtypes: datetime64[ns](1), float64(12), int64(1), object(1)\n",
      "memory usage: 1.1+ MB\n"
     ]
    }
   ],
   "source": [
    "data.info()"
   ]
  },
  {
   "cell_type": "code",
   "execution_count": 7,
   "metadata": {},
   "outputs": [
    {
     "data": {
      "text/plain": [
       "Date             0\n",
       "Time             0\n",
       "CO(GT)           0\n",
       "PT08.S1(CO)      0\n",
       "NMHC(GT)         0\n",
       "C6H6(GT)         0\n",
       "PT08.S2(NMHC)    0\n",
       "NOx(GT)          0\n",
       "PT08.S3(NOx)     0\n",
       "NO2(GT)          0\n",
       "PT08.S4(NO2)     0\n",
       "PT08.S5(O3)      0\n",
       "T                0\n",
       "RH               0\n",
       "AH               0\n",
       "dtype: int64"
      ]
     },
     "execution_count": 7,
     "metadata": {},
     "output_type": "execute_result"
    }
   ],
   "source": [
    "data.isna().sum()"
   ]
  },
  {
   "cell_type": "code",
   "execution_count": 8,
   "metadata": {},
   "outputs": [
    {
     "data": {
      "text/html": [
       "<div>\n",
       "<style scoped>\n",
       "    .dataframe tbody tr th:only-of-type {\n",
       "        vertical-align: middle;\n",
       "    }\n",
       "\n",
       "    .dataframe tbody tr th {\n",
       "        vertical-align: top;\n",
       "    }\n",
       "\n",
       "    .dataframe thead th {\n",
       "        text-align: right;\n",
       "    }\n",
       "</style>\n",
       "<table border=\"1\" class=\"dataframe\">\n",
       "  <thead>\n",
       "    <tr style=\"text-align: right;\">\n",
       "      <th></th>\n",
       "      <th>CO(GT)</th>\n",
       "      <th>PT08.S1(CO)</th>\n",
       "      <th>NMHC(GT)</th>\n",
       "      <th>C6H6(GT)</th>\n",
       "      <th>PT08.S2(NMHC)</th>\n",
       "      <th>NOx(GT)</th>\n",
       "      <th>PT08.S3(NOx)</th>\n",
       "      <th>NO2(GT)</th>\n",
       "      <th>PT08.S4(NO2)</th>\n",
       "      <th>PT08.S5(O3)</th>\n",
       "      <th>T</th>\n",
       "      <th>RH</th>\n",
       "      <th>AH</th>\n",
       "    </tr>\n",
       "  </thead>\n",
       "  <tbody>\n",
       "    <tr>\n",
       "      <th>CO(GT)</th>\n",
       "      <td>1.000000</td>\n",
       "      <td>0.041415</td>\n",
       "      <td>0.128351</td>\n",
       "      <td>-0.031377</td>\n",
       "      <td>0.029939</td>\n",
       "      <td>0.526450</td>\n",
       "      <td>-0.089981</td>\n",
       "      <td>0.671140</td>\n",
       "      <td>-0.073721</td>\n",
       "      <td>0.080316</td>\n",
       "      <td>-0.068952</td>\n",
       "      <td>-0.048231</td>\n",
       "      <td>-0.045892</td>\n",
       "    </tr>\n",
       "    <tr>\n",
       "      <th>PT08.S1(CO)</th>\n",
       "      <td>0.041415</td>\n",
       "      <td>1.000000</td>\n",
       "      <td>0.170009</td>\n",
       "      <td>0.852659</td>\n",
       "      <td>0.933101</td>\n",
       "      <td>0.278029</td>\n",
       "      <td>0.086931</td>\n",
       "      <td>0.154058</td>\n",
       "      <td>0.845133</td>\n",
       "      <td>0.892436</td>\n",
       "      <td>0.754806</td>\n",
       "      <td>0.745344</td>\n",
       "      <td>0.764866</td>\n",
       "    </tr>\n",
       "    <tr>\n",
       "      <th>NMHC(GT)</th>\n",
       "      <td>0.128351</td>\n",
       "      <td>0.170009</td>\n",
       "      <td>1.000000</td>\n",
       "      <td>0.037329</td>\n",
       "      <td>0.110097</td>\n",
       "      <td>-0.004413</td>\n",
       "      <td>0.048832</td>\n",
       "      <td>0.103345</td>\n",
       "      <td>0.162689</td>\n",
       "      <td>0.101189</td>\n",
       "      <td>-0.000008</td>\n",
       "      <td>0.008288</td>\n",
       "      <td>0.012500</td>\n",
       "    </tr>\n",
       "    <tr>\n",
       "      <th>C6H6(GT)</th>\n",
       "      <td>-0.031377</td>\n",
       "      <td>0.852659</td>\n",
       "      <td>0.037329</td>\n",
       "      <td>1.000000</td>\n",
       "      <td>0.767401</td>\n",
       "      <td>-0.001163</td>\n",
       "      <td>0.512154</td>\n",
       "      <td>-0.010971</td>\n",
       "      <td>0.774649</td>\n",
       "      <td>0.641306</td>\n",
       "      <td>0.971370</td>\n",
       "      <td>0.925068</td>\n",
       "      <td>0.984556</td>\n",
       "    </tr>\n",
       "    <tr>\n",
       "      <th>PT08.S2(NMHC)</th>\n",
       "      <td>0.029939</td>\n",
       "      <td>0.933101</td>\n",
       "      <td>0.110097</td>\n",
       "      <td>0.767401</td>\n",
       "      <td>1.000000</td>\n",
       "      <td>0.331331</td>\n",
       "      <td>-0.073748</td>\n",
       "      <td>0.176569</td>\n",
       "      <td>0.874761</td>\n",
       "      <td>0.909909</td>\n",
       "      <td>0.668984</td>\n",
       "      <td>0.585775</td>\n",
       "      <td>0.646535</td>\n",
       "    </tr>\n",
       "    <tr>\n",
       "      <th>NOx(GT)</th>\n",
       "      <td>0.526450</td>\n",
       "      <td>0.278029</td>\n",
       "      <td>-0.004413</td>\n",
       "      <td>-0.001163</td>\n",
       "      <td>0.331331</td>\n",
       "      <td>1.000000</td>\n",
       "      <td>-0.436083</td>\n",
       "      <td>0.817138</td>\n",
       "      <td>0.035580</td>\n",
       "      <td>0.461916</td>\n",
       "      <td>-0.138457</td>\n",
       "      <td>-0.053008</td>\n",
       "      <td>-0.095841</td>\n",
       "    </tr>\n",
       "    <tr>\n",
       "      <th>PT08.S3(NOx)</th>\n",
       "      <td>-0.089981</td>\n",
       "      <td>0.086931</td>\n",
       "      <td>0.048832</td>\n",
       "      <td>0.512154</td>\n",
       "      <td>-0.073748</td>\n",
       "      <td>-0.436083</td>\n",
       "      <td>1.000000</td>\n",
       "      <td>-0.256217</td>\n",
       "      <td>0.122672</td>\n",
       "      <td>-0.208935</td>\n",
       "      <td>0.588061</td>\n",
       "      <td>0.573513</td>\n",
       "      <td>0.621576</td>\n",
       "    </tr>\n",
       "    <tr>\n",
       "      <th>NO2(GT)</th>\n",
       "      <td>0.671140</td>\n",
       "      <td>0.154058</td>\n",
       "      <td>0.103345</td>\n",
       "      <td>-0.010971</td>\n",
       "      <td>0.176569</td>\n",
       "      <td>0.817138</td>\n",
       "      <td>-0.256217</td>\n",
       "      <td>1.000000</td>\n",
       "      <td>-0.022092</td>\n",
       "      <td>0.253469</td>\n",
       "      <td>-0.084084</td>\n",
       "      <td>-0.081300</td>\n",
       "      <td>-0.060423</td>\n",
       "    </tr>\n",
       "    <tr>\n",
       "      <th>PT08.S4(NO2)</th>\n",
       "      <td>-0.073721</td>\n",
       "      <td>0.845133</td>\n",
       "      <td>0.162689</td>\n",
       "      <td>0.774649</td>\n",
       "      <td>0.874761</td>\n",
       "      <td>0.035580</td>\n",
       "      <td>0.122672</td>\n",
       "      <td>-0.022092</td>\n",
       "      <td>1.000000</td>\n",
       "      <td>0.723670</td>\n",
       "      <td>0.755053</td>\n",
       "      <td>0.640685</td>\n",
       "      <td>0.691889</td>\n",
       "    </tr>\n",
       "    <tr>\n",
       "      <th>PT08.S5(O3)</th>\n",
       "      <td>0.080316</td>\n",
       "      <td>0.892436</td>\n",
       "      <td>0.101189</td>\n",
       "      <td>0.641306</td>\n",
       "      <td>0.909909</td>\n",
       "      <td>0.461916</td>\n",
       "      <td>-0.208935</td>\n",
       "      <td>0.253469</td>\n",
       "      <td>0.723670</td>\n",
       "      <td>1.000000</td>\n",
       "      <td>0.503659</td>\n",
       "      <td>0.524922</td>\n",
       "      <td>0.519432</td>\n",
       "    </tr>\n",
       "    <tr>\n",
       "      <th>T</th>\n",
       "      <td>-0.068952</td>\n",
       "      <td>0.754806</td>\n",
       "      <td>-0.000008</td>\n",
       "      <td>0.971370</td>\n",
       "      <td>0.668984</td>\n",
       "      <td>-0.138457</td>\n",
       "      <td>0.588061</td>\n",
       "      <td>-0.084084</td>\n",
       "      <td>0.755053</td>\n",
       "      <td>0.503659</td>\n",
       "      <td>1.000000</td>\n",
       "      <td>0.885910</td>\n",
       "      <td>0.980998</td>\n",
       "    </tr>\n",
       "    <tr>\n",
       "      <th>RH</th>\n",
       "      <td>-0.048231</td>\n",
       "      <td>0.745344</td>\n",
       "      <td>0.008288</td>\n",
       "      <td>0.925068</td>\n",
       "      <td>0.585775</td>\n",
       "      <td>-0.053008</td>\n",
       "      <td>0.573513</td>\n",
       "      <td>-0.081300</td>\n",
       "      <td>0.640685</td>\n",
       "      <td>0.524922</td>\n",
       "      <td>0.885910</td>\n",
       "      <td>1.000000</td>\n",
       "      <td>0.943997</td>\n",
       "    </tr>\n",
       "    <tr>\n",
       "      <th>AH</th>\n",
       "      <td>-0.045892</td>\n",
       "      <td>0.764866</td>\n",
       "      <td>0.012500</td>\n",
       "      <td>0.984556</td>\n",
       "      <td>0.646535</td>\n",
       "      <td>-0.095841</td>\n",
       "      <td>0.621576</td>\n",
       "      <td>-0.060423</td>\n",
       "      <td>0.691889</td>\n",
       "      <td>0.519432</td>\n",
       "      <td>0.980998</td>\n",
       "      <td>0.943997</td>\n",
       "      <td>1.000000</td>\n",
       "    </tr>\n",
       "  </tbody>\n",
       "</table>\n",
       "</div>"
      ],
      "text/plain": [
       "                 CO(GT)  PT08.S1(CO)  NMHC(GT)  C6H6(GT)  PT08.S2(NMHC)  \\\n",
       "CO(GT)         1.000000     0.041415  0.128351 -0.031377       0.029939   \n",
       "PT08.S1(CO)    0.041415     1.000000  0.170009  0.852659       0.933101   \n",
       "NMHC(GT)       0.128351     0.170009  1.000000  0.037329       0.110097   \n",
       "C6H6(GT)      -0.031377     0.852659  0.037329  1.000000       0.767401   \n",
       "PT08.S2(NMHC)  0.029939     0.933101  0.110097  0.767401       1.000000   \n",
       "NOx(GT)        0.526450     0.278029 -0.004413 -0.001163       0.331331   \n",
       "PT08.S3(NOx)  -0.089981     0.086931  0.048832  0.512154      -0.073748   \n",
       "NO2(GT)        0.671140     0.154058  0.103345 -0.010971       0.176569   \n",
       "PT08.S4(NO2)  -0.073721     0.845133  0.162689  0.774649       0.874761   \n",
       "PT08.S5(O3)    0.080316     0.892436  0.101189  0.641306       0.909909   \n",
       "T             -0.068952     0.754806 -0.000008  0.971370       0.668984   \n",
       "RH            -0.048231     0.745344  0.008288  0.925068       0.585775   \n",
       "AH            -0.045892     0.764866  0.012500  0.984556       0.646535   \n",
       "\n",
       "                NOx(GT)  PT08.S3(NOx)   NO2(GT)  PT08.S4(NO2)  PT08.S5(O3)  \\\n",
       "CO(GT)         0.526450     -0.089981  0.671140     -0.073721     0.080316   \n",
       "PT08.S1(CO)    0.278029      0.086931  0.154058      0.845133     0.892436   \n",
       "NMHC(GT)      -0.004413      0.048832  0.103345      0.162689     0.101189   \n",
       "C6H6(GT)      -0.001163      0.512154 -0.010971      0.774649     0.641306   \n",
       "PT08.S2(NMHC)  0.331331     -0.073748  0.176569      0.874761     0.909909   \n",
       "NOx(GT)        1.000000     -0.436083  0.817138      0.035580     0.461916   \n",
       "PT08.S3(NOx)  -0.436083      1.000000 -0.256217      0.122672    -0.208935   \n",
       "NO2(GT)        0.817138     -0.256217  1.000000     -0.022092     0.253469   \n",
       "PT08.S4(NO2)   0.035580      0.122672 -0.022092      1.000000     0.723670   \n",
       "PT08.S5(O3)    0.461916     -0.208935  0.253469      0.723670     1.000000   \n",
       "T             -0.138457      0.588061 -0.084084      0.755053     0.503659   \n",
       "RH            -0.053008      0.573513 -0.081300      0.640685     0.524922   \n",
       "AH            -0.095841      0.621576 -0.060423      0.691889     0.519432   \n",
       "\n",
       "                      T        RH        AH  \n",
       "CO(GT)        -0.068952 -0.048231 -0.045892  \n",
       "PT08.S1(CO)    0.754806  0.745344  0.764866  \n",
       "NMHC(GT)      -0.000008  0.008288  0.012500  \n",
       "C6H6(GT)       0.971370  0.925068  0.984556  \n",
       "PT08.S2(NMHC)  0.668984  0.585775  0.646535  \n",
       "NOx(GT)       -0.138457 -0.053008 -0.095841  \n",
       "PT08.S3(NOx)   0.588061  0.573513  0.621576  \n",
       "NO2(GT)       -0.084084 -0.081300 -0.060423  \n",
       "PT08.S4(NO2)   0.755053  0.640685  0.691889  \n",
       "PT08.S5(O3)    0.503659  0.524922  0.519432  \n",
       "T              1.000000  0.885910  0.980998  \n",
       "RH             0.885910  1.000000  0.943997  \n",
       "AH             0.980998  0.943997  1.000000  "
      ]
     },
     "execution_count": 8,
     "metadata": {},
     "output_type": "execute_result"
    }
   ],
   "source": [
    "data.corr()"
   ]
  },
  {
   "cell_type": "code",
   "execution_count": 9,
   "metadata": {},
   "outputs": [
    {
     "data": {
      "image/png": "[encoded data removed]",
      "text/plain": [
       "<Figure size 1080x1080 with 2 Axes>"
      ]
     },
     "metadata": {
      "needs_background": "light"
     },
     "output_type": "display_data"
    }
   ],
   "source": [
    "import seaborn as sbn\n",
    "import matplotlib.pyplot as plt\n",
    "\n",
    "plt.figure(figsize=(15,15))\n",
    "sbn.heatmap(data.corr(), annot=True, cmap='RdYlGn')\n",
    "plt.show()"
   ]
  },
  {
   "cell_type": "code",
   "execution_count": 10,
   "metadata": {},
   "outputs": [],
   "source": [
    "data.drop(['Date', 'Time'], axis=1, inplace=True)"
   ]
  },
  {
   "cell_type": "code",
   "execution_count": 11,
   "metadata": {},
   "outputs": [],
   "source": [
    "X = data.drop(['RH'], axis=1)\n",
    "Y = data['RH']"
   ]
  },
  {
   "cell_type": "code",
   "execution_count": 12,
   "metadata": {},
   "outputs": [],
   "source": [
    "from sklearn.model_selection import train_test_split\n",
    "from sklearn.preprocessing import StandardScaler"
   ]
  },
  {
   "cell_type": "code",
   "execution_count": 13,
   "metadata": {},
   "outputs": [],
   "source": [
    "X_train_full, X_test, y_train_full, y_test = train_test_split(X, Y, random_state=42)\n",
    "X_train, X_valid, y_train, y_valid = train_test_split(X_train_full, y_train_full, random_state=42)"
   ]
  },
  {
   "cell_type": "code",
   "execution_count": 14,
   "metadata": {},
   "outputs": [],
   "source": [
    "scaler = StandardScaler()\n",
    "X_train = scaler.fit_transform(X_train)\n",
    "X_valid = scaler.transform(X_valid)\n",
    "X_test = scaler.transform(X_test)"
   ]
  },
  {
   "cell_type": "markdown",
   "metadata": {},
   "source": [
    "## without tuning"
   ]
  },
  {
   "cell_type": "code",
   "execution_count": 31,
   "metadata": {},
   "outputs": [
    {
     "name": "stdout",
     "output_type": "stream",
     "text": [
      "Epoch 1/50\n",
      "165/165 [==============================] - 1s 3ms/step - loss: 4.0491 - val_loss: 0.2991\n",
      "Epoch 2/50\n",
      "165/165 [==============================] - 0s 2ms/step - loss: 0.2034 - val_loss: 0.1960\n",
      "Epoch 3/50\n",
      "165/165 [==============================] - 0s 2ms/step - loss: 0.1687 - val_loss: 0.1752\n",
      "Epoch 4/50\n",
      "165/165 [==============================] - 0s 2ms/step - loss: 0.1493 - val_loss: 0.1537\n",
      "Epoch 5/50\n",
      "165/165 [==============================] - 0s 2ms/step - loss: 0.1289 - val_loss: 0.1295\n",
      "Epoch 6/50\n",
      "165/165 [==============================] - 0s 3ms/step - loss: 0.1054 - val_loss: 0.1021\n",
      "Epoch 7/50\n",
      "165/165 [==============================] - 1s 4ms/step - loss: 0.0822 - val_loss: 0.0769\n",
      "Epoch 8/50\n",
      "165/165 [==============================] - 1s 4ms/step - loss: 0.0638 - val_loss: 0.0601\n",
      "Epoch 9/50\n",
      "165/165 [==============================] - 1s 4ms/step - loss: 0.0511 - val_loss: 0.0473\n",
      "Epoch 10/50\n",
      "165/165 [==============================] - 1s 4ms/step - loss: 0.0415 - val_loss: 0.0387\n",
      "Epoch 11/50\n",
      "165/165 [==============================] - 1s 4ms/step - loss: 0.0350 - val_loss: 0.0320\n",
      "Epoch 12/50\n",
      "165/165 [==============================] - 1s 4ms/step - loss: 0.0302 - val_loss: 0.0275\n",
      "Epoch 13/50\n",
      "165/165 [==============================] - 1s 4ms/step - loss: 0.0266 - val_loss: 0.0242\n",
      "Epoch 14/50\n",
      "165/165 [==============================] - 1s 4ms/step - loss: 0.0235 - val_loss: 0.0206\n",
      "Epoch 15/50\n",
      "165/165 [==============================] - 1s 4ms/step - loss: 0.0213 - val_loss: 0.0187\n",
      "Epoch 16/50\n",
      "165/165 [==============================] - 1s 4ms/step - loss: 0.0191 - val_loss: 0.0169\n",
      "Epoch 17/50\n",
      "165/165 [==============================] - 1s 4ms/step - loss: 0.0180 - val_loss: 0.0165\n",
      "Epoch 18/50\n",
      "165/165 [==============================] - 1s 4ms/step - loss: 0.0170 - val_loss: 0.0154\n",
      "Epoch 19/50\n",
      "165/165 [==============================] - 1s 4ms/step - loss: 0.0162 - val_loss: 0.0145\n",
      "Epoch 20/50\n",
      "165/165 [==============================] - 1s 3ms/step - loss: 0.0158 - val_loss: 0.0141\n",
      "Epoch 21/50\n",
      "165/165 [==============================] - 1s 3ms/step - loss: 0.0152 - val_loss: 0.0142\n",
      "Epoch 22/50\n",
      "165/165 [==============================] - 0s 3ms/step - loss: 0.0146 - val_loss: 0.0140\n",
      "Epoch 23/50\n",
      "165/165 [==============================] - 1s 4ms/step - loss: 0.0145 - val_loss: 0.0131\n",
      "Epoch 24/50\n",
      "165/165 [==============================] - 1s 4ms/step - loss: 0.0139 - val_loss: 0.0131\n",
      "Epoch 25/50\n",
      "165/165 [==============================] - 0s 2ms/step - loss: 0.0138 - val_loss: 0.0123\n",
      "Epoch 26/50\n",
      "165/165 [==============================] - 1s 4ms/step - loss: 0.0133 - val_loss: 0.0121\n",
      "Epoch 27/50\n",
      "165/165 [==============================] - 1s 4ms/step - loss: 0.0130 - val_loss: 0.0122\n",
      "Epoch 28/50\n",
      "165/165 [==============================] - 1s 4ms/step - loss: 0.0128 - val_loss: 0.0118\n",
      "Epoch 29/50\n",
      "165/165 [==============================] - 1s 4ms/step - loss: 0.0124 - val_loss: 0.0113\n",
      "Epoch 30/50\n",
      "165/165 [==============================] - 1s 4ms/step - loss: 0.0120 - val_loss: 0.0112\n",
      "Epoch 31/50\n",
      "165/165 [==============================] - 1s 4ms/step - loss: 0.0120 - val_loss: 0.0109\n",
      "Epoch 32/50\n",
      "165/165 [==============================] - 0s 3ms/step - loss: 0.0117 - val_loss: 0.0113\n",
      "Epoch 33/50\n",
      "165/165 [==============================] - 1s 4ms/step - loss: 0.0114 - val_loss: 0.0113\n",
      "Epoch 34/50\n",
      "165/165 [==============================] - 1s 4ms/step - loss: 0.0114 - val_loss: 0.0103\n",
      "Epoch 35/50\n",
      "165/165 [==============================] - 1s 4ms/step - loss: 0.0111 - val_loss: 0.0101\n",
      "Epoch 36/50\n",
      "165/165 [==============================] - 0s 2ms/step - loss: 0.0110 - val_loss: 0.0101\n",
      "Epoch 37/50\n",
      "165/165 [==============================] - 0s 2ms/step - loss: 0.0107 - val_loss: 0.0104\n",
      "Epoch 38/50\n",
      "165/165 [==============================] - 1s 4ms/step - loss: 0.0107 - val_loss: 0.0103\n",
      "Epoch 39/50\n",
      "165/165 [==============================] - 1s 4ms/step - loss: 0.0105 - val_loss: 0.0104\n",
      "Epoch 40/50\n",
      "165/165 [==============================] - 1s 4ms/step - loss: 0.0102 - val_loss: 0.0096\n",
      "Epoch 41/50\n",
      "165/165 [==============================] - 1s 4ms/step - loss: 0.0100 - val_loss: 0.0094\n",
      "Epoch 42/50\n",
      "165/165 [==============================] - 1s 4ms/step - loss: 0.0097 - val_loss: 0.0092\n",
      "Epoch 43/50\n",
      "165/165 [==============================] - 1s 4ms/step - loss: 0.0096 - val_loss: 0.0095\n",
      "Epoch 44/50\n",
      "165/165 [==============================] - 1s 3ms/step - loss: 0.0097 - val_loss: 0.0100\n",
      "Epoch 45/50\n",
      "165/165 [==============================] - 1s 4ms/step - loss: 0.0095 - val_loss: 0.0091\n",
      "Epoch 46/50\n",
      "165/165 [==============================] - 1s 4ms/step - loss: 0.0093 - val_loss: 0.0087\n",
      "Epoch 47/50\n",
      "165/165 [==============================] - 1s 4ms/step - loss: 0.0093 - val_loss: 0.0090\n",
      "Epoch 48/50\n",
      "165/165 [==============================] - 1s 4ms/step - loss: 0.0091 - val_loss: 0.0093\n",
      "Epoch 49/50\n",
      "165/165 [==============================] - 1s 4ms/step - loss: 0.0091 - val_loss: 0.0089\n",
      "Epoch 50/50\n",
      "165/165 [==============================] - 1s 4ms/step - loss: 0.0089 - val_loss: 0.0087\n"
     ]
    }
   ],
   "source": [
    "model = tf.keras.Sequential([\n",
    "    tf.keras.layers.Dense(15, activation='relu', input_shape=X_train.shape[1:]),\n",
    "    tf.keras.layers.Dense(30, activation='relu'),\n",
    "    tf.keras.layers.Dense(45, activation='relu'),\n",
    "    tf.keras.layers.Dense(20, activation='relu'),\n",
    "    tf.keras.layers.Dense(1)\n",
    "])\n",
    "\n",
    "model.compile(loss=tf.losses.mean_squared_logarithmic_error, optimizer='adam')\n",
    "history = model.fit(X_train, y_train, epochs=50, validation_data=(X_valid, y_valid))"
   ]
  },
  {
   "cell_type": "code",
   "execution_count": 32,
   "metadata": {},
   "outputs": [
    {
     "data": {
      "image/png": "[encoded data removed]",
      "text/plain": [
       "<Figure size 576x360 with 1 Axes>"
      ]
     },
     "metadata": {
      "needs_background": "light"
     },
     "output_type": "display_data"
    }
   ],
   "source": [
    "import matplotlib.pyplot as plt\n",
    "pd.DataFrame(history.history).plot(figsize=(8, 5))\n",
    "plt.grid(True)"
   ]
  },
  {
   "cell_type": "code",
   "execution_count": 33,
   "metadata": {},
   "outputs": [
    {
     "name": "stdout",
     "output_type": "stream",
     "text": [
      "74/74 [==============================] - 0s 2ms/step - loss: 0.0097\n"
     ]
    }
   ],
   "source": [
    "msle_test = model.evaluate(X_test, y_test)\n",
    "X_new = X_test[:3]\n",
    "y_pred = model.predict(X_new)"
   ]
  },
  {
   "cell_type": "markdown",
   "metadata": {},
   "source": [
    "## tuning model using keras-tuner library"
   ]
  },
  {
   "cell_type": "code",
   "execution_count": 15,
   "metadata": {},
   "outputs": [],
   "source": [
    "from kerastuner.tuners import RandomSearch    "
   ]
  },
  {
   "cell_type": "code",
   "execution_count": 16,
   "metadata": {},
   "outputs": [],
   "source": [
    "def build_model(hp):\n",
    "    model = tf.keras.Sequential()\n",
    "    for i in range(hp.Int('num_layers', 2, 20)):\n",
    "        model.add(tf.keras.layers.Dense(units=hp.Int('units_' + str(i),\n",
    "                                            min_value=32,\n",
    "                                            max_value=512,\n",
    "                                            step=32),\n",
    "                               activation='relu'))\n",
    "    model.add(tf.keras.layers.Dense(1))\n",
    "    model.compile(\n",
    "        optimizer=tf.keras.optimizers.Adam(\n",
    "            hp.Choice('learning_rate', [1e-2, 1e-3, 1e-4])),\n",
    "        loss='msle',\n",
    "        metrics=['msle'])\n",
    "    return model"
   ]
  },
  {
   "cell_type": "code",
   "execution_count": 17,
   "metadata": {},
   "outputs": [],
   "source": [
    "tuner = RandomSearch(\n",
    "    build_model,\n",
    "    objective='msle',\n",
    "    max_trials=5,\n",
    "    executions_per_trial=3,\n",
    "    directory='AQI',\n",
    "    project_name='Air_Quality_Index')"
   ]
  },
  {
   "cell_type": "code",
   "execution_count": 18,
   "metadata": {},
   "outputs": [
    {
     "name": "stdout",
     "output_type": "stream",
     "text": [
      "Search space summary\n",
      "Default search space size: 4\n",
      "num_layers (Int)\n",
      "{'default': None, 'conditions': [], 'min_value': 2, 'max_value': 20, 'step': 1, 'sampling': None}\n",
      "units_0 (Int)\n",
      "{'default': None, 'conditions': [], 'min_value': 32, 'max_value': 512, 'step': 32, 'sampling': None}\n",
      "units_1 (Int)\n",
      "{'default': None, 'conditions': [], 'min_value': 32, 'max_value': 512, 'step': 32, 'sampling': None}\n",
      "learning_rate (Choice)\n",
      "{'default': 0.01, 'conditions': [], 'values': [0.01, 0.001, 0.0001], 'ordered': True}\n"
     ]
    }
   ],
   "source": [
    "tuner.search_space_summary()"
   ]
  },
  {
   "cell_type": "code",
   "execution_count": 19,
   "metadata": {},
   "outputs": [
    {
     "name": "stdout",
     "output_type": "stream",
     "text": [
      "Trial 5 Complete [00h 00m 56s]\n",
      "msle: 0.015598194052775701\n",
      "\n",
      "Best msle So Far: 0.013316182419657707\n",
      "Total elapsed time: 00h 03m 16s\n",
      "INFO:tensorflow:Oracle triggered exit\n"
     ]
    }
   ],
   "source": [
    "tuner.search(X_train, y_train,\n",
    "             epochs=5,\n",
    "             validation_data=(X_valid, y_valid))"
   ]
  },
  {
   "cell_type": "code",
   "execution_count": 20,
   "metadata": {},
   "outputs": [],
   "source": [
    "best_model = tuner.get_best_models(num_models=1)[0]"
   ]
  },
  {
   "cell_type": "code",
   "execution_count": 21,
   "metadata": {},
   "outputs": [
    {
     "name": "stdout",
     "output_type": "stream",
     "text": [
      "74/74 [==============================] - 0s 3ms/step - loss: 0.0114 - msle: 0.0114\n"
     ]
    }
   ],
   "source": [
    "loss, mse = best_model.evaluate(X_test, y_test)"
   ]
  },
  {
   "cell_type": "code",
   "execution_count": 22,
   "metadata": {},
   "outputs": [],
   "source": [
    "best_params = tuner.get_best_hyperparameters"
   ]
  },
  {
   "cell_type": "code",
   "execution_count": 23,
   "metadata": {},
   "outputs": [
    {
     "name": "stdout",
     "output_type": "stream",
     "text": [
      "Results summary\n",
      "Results in AQI\\Air_Quality_Index\n",
      "Showing 10 best trials\n",
      "Objective(name='msle', direction='min')\n",
      "Trial summary\n",
      "Hyperparameters:\n",
      "num_layers: 8\n",
      "units_0: 96\n",
      "units_1: 480\n",
      "learning_rate: 0.01\n",
      "units_2: 384\n",
      "units_3: 448\n",
      "units_4: 480\n",
      "units_5: 448\n",
      "units_6: 32\n",
      "units_7: 32\n",
      "Score: 0.013316182419657707\n",
      "Trial summary\n",
      "Hyperparameters:\n",
      "num_layers: 19\n",
      "units_0: 416\n",
      "units_1: 288\n",
      "learning_rate: 0.0001\n",
      "units_2: 448\n",
      "units_3: 128\n",
      "units_4: 64\n",
      "units_5: 448\n",
      "units_6: 384\n",
      "units_7: 224\n",
      "units_8: 512\n",
      "units_9: 64\n",
      "units_10: 64\n",
      "units_11: 128\n",
      "units_12: 192\n",
      "units_13: 480\n",
      "units_14: 160\n",
      "units_15: 448\n",
      "units_16: 192\n",
      "units_17: 448\n",
      "units_18: 288\n",
      "Score: 0.015598194052775701\n",
      "Trial summary\n",
      "Hyperparameters:\n",
      "num_layers: 12\n",
      "units_0: 224\n",
      "units_1: 352\n",
      "learning_rate: 0.0001\n",
      "units_2: 320\n",
      "units_3: 256\n",
      "units_4: 320\n",
      "units_5: 480\n",
      "units_6: 256\n",
      "units_7: 288\n",
      "units_8: 288\n",
      "units_9: 64\n",
      "units_10: 480\n",
      "units_11: 416\n",
      "units_12: 288\n",
      "units_13: 32\n",
      "units_14: 448\n",
      "units_15: 480\n",
      "units_16: 352\n",
      "units_17: 416\n",
      "units_18: 288\n",
      "Score: 0.01921338712175687\n",
      "Trial summary\n",
      "Hyperparameters:\n",
      "num_layers: 19\n",
      "units_0: 320\n",
      "units_1: 448\n",
      "learning_rate: 0.001\n",
      "units_2: 64\n",
      "units_3: 320\n",
      "units_4: 160\n",
      "units_5: 128\n",
      "units_6: 64\n",
      "units_7: 352\n",
      "units_8: 32\n",
      "units_9: 32\n",
      "units_10: 32\n",
      "units_11: 32\n",
      "units_12: 32\n",
      "units_13: 32\n",
      "units_14: 32\n",
      "units_15: 32\n",
      "units_16: 32\n",
      "units_17: 32\n",
      "units_18: 32\n",
      "Score: 4.810165694293876\n",
      "Trial summary\n",
      "Hyperparameters:\n",
      "num_layers: 6\n",
      "units_0: 480\n",
      "units_1: 192\n",
      "learning_rate: 0.001\n",
      "units_2: 32\n",
      "units_3: 32\n",
      "units_4: 32\n",
      "units_5: 32\n",
      "Score: 4.812488285514216\n"
     ]
    }
   ],
   "source": [
    "tuner.results_summary()"
   ]
  },
  {
   "cell_type": "code",
   "execution_count": 24,
   "metadata": {},
   "outputs": [
    {
     "data": {
      "text/plain": [
       "0.011379783041775227"
      ]
     },
     "execution_count": 24,
     "metadata": {},
     "output_type": "execute_result"
    }
   ],
   "source": [
    "loss"
   ]
  },
  {
   "cell_type": "markdown",
   "metadata": {},
   "source": [
    "Trial summary\n",
    "Hyperparameters:\n",
    "num_layers: 6\n",
    "units_0: 480\n",
    "units_1: 192\n",
    "learning_rate: 0.001\n",
    "units_2: 32\n",
    "units_3: 32\n",
    "units_4: 32\n",
    "units_5: 32\n",
    "Score: 4.812488285514216\n",
    "loss\n",
    "loss"
   ]
  },
  {
   "cell_type": "code",
   "execution_count": 28,
   "metadata": {},
   "outputs": [
    {
     "name": "stdout",
     "output_type": "stream",
     "text": [
      "Epoch 1/50\n",
      "165/165 [==============================] - 1s 5ms/step - loss: 1.5739 - val_loss: 0.1862\n",
      "Epoch 2/50\n",
      "165/165 [==============================] - 1s 3ms/step - loss: 0.1351 - val_loss: 0.1065\n",
      "Epoch 3/50\n",
      "165/165 [==============================] - 1s 3ms/step - loss: 0.0568 - val_loss: 0.0343\n",
      "Epoch 4/50\n",
      "165/165 [==============================] - 1s 5ms/step - loss: 0.0245 - val_loss: 0.0220\n",
      "Epoch 5/50\n",
      "165/165 [==============================] - 1s 6ms/step - loss: 0.0162 - val_loss: 0.0136\n",
      "Epoch 6/50\n",
      "165/165 [==============================] - 1s 6ms/step - loss: 0.0136 - val_loss: 0.0144\n",
      "Epoch 7/50\n",
      "165/165 [==============================] - 1s 6ms/step - loss: 0.0122 - val_loss: 0.0101\n",
      "Epoch 8/50\n",
      "165/165 [==============================] - 1s 7ms/step - loss: 0.0115 - val_loss: 0.0108\n",
      "Epoch 9/50\n",
      "165/165 [==============================] - 1s 6ms/step - loss: 0.0107 - val_loss: 0.0105\n",
      "Epoch 10/50\n",
      "165/165 [==============================] - 1s 7ms/step - loss: 0.0098 - val_loss: 0.0089\n",
      "Epoch 11/50\n",
      "165/165 [==============================] - 1s 7ms/step - loss: 0.0095 - val_loss: 0.0091\n",
      "Epoch 12/50\n",
      "165/165 [==============================] - 1s 4ms/step - loss: 0.0093 - val_loss: 0.0085\n",
      "Epoch 13/50\n",
      "165/165 [==============================] - 1s 6ms/step - loss: 0.0093 - val_loss: 0.0087\n",
      "Epoch 14/50\n",
      "165/165 [==============================] - 1s 6ms/step - loss: 0.0089 - val_loss: 0.0083\n",
      "Epoch 15/50\n",
      "165/165 [==============================] - 1s 6ms/step - loss: 0.0086 - val_loss: 0.0101\n",
      "Epoch 16/50\n",
      "165/165 [==============================] - 1s 6ms/step - loss: 0.0082 - val_loss: 0.0086\n",
      "Epoch 17/50\n",
      "165/165 [==============================] - 1s 6ms/step - loss: 0.0080 - val_loss: 0.0084\n",
      "Epoch 18/50\n",
      "165/165 [==============================] - 1s 6ms/step - loss: 0.0082 - val_loss: 0.0078\n",
      "Epoch 19/50\n",
      "165/165 [==============================] - 1s 6ms/step - loss: 0.0081 - val_loss: 0.0076\n",
      "Epoch 20/50\n",
      "165/165 [==============================] - 1s 6ms/step - loss: 0.0073 - val_loss: 0.0085\n",
      "Epoch 21/50\n",
      "165/165 [==============================] - 1s 6ms/step - loss: 0.0074 - val_loss: 0.0085\n",
      "Epoch 22/50\n",
      "165/165 [==============================] - 1s 6ms/step - loss: 0.0070 - val_loss: 0.0095\n",
      "Epoch 23/50\n",
      "165/165 [==============================] - 1s 6ms/step - loss: 0.0078 - val_loss: 0.0106\n",
      "Epoch 24/50\n",
      "165/165 [==============================] - 1s 6ms/step - loss: 0.0078 - val_loss: 0.0080\n",
      "Epoch 25/50\n",
      "165/165 [==============================] - 1s 6ms/step - loss: 0.0068 - val_loss: 0.0070\n",
      "Epoch 26/50\n",
      "165/165 [==============================] - 1s 6ms/step - loss: 0.0067 - val_loss: 0.0077\n",
      "Epoch 27/50\n",
      "165/165 [==============================] - 1s 6ms/step - loss: 0.0064 - val_loss: 0.0077\n",
      "Epoch 28/50\n",
      "165/165 [==============================] - 1s 4ms/step - loss: 0.0066 - val_loss: 0.0073\n",
      "Epoch 29/50\n",
      "165/165 [==============================] - 1s 5ms/step - loss: 0.0068 - val_loss: 0.0073\n",
      "Epoch 30/50\n",
      "165/165 [==============================] - 1s 6ms/step - loss: 0.0069 - val_loss: 0.0107\n",
      "Epoch 31/50\n",
      "165/165 [==============================] - 1s 6ms/step - loss: 0.0065 - val_loss: 0.0076\n",
      "Epoch 32/50\n",
      "165/165 [==============================] - 1s 6ms/step - loss: 0.0065 - val_loss: 0.0086\n",
      "Epoch 33/50\n",
      "165/165 [==============================] - 1s 6ms/step - loss: 0.0064 - val_loss: 0.0093\n",
      "Epoch 34/50\n",
      "165/165 [==============================] - 1s 6ms/step - loss: 0.0072 - val_loss: 0.0118\n",
      "Epoch 35/50\n",
      "165/165 [==============================] - 1s 5ms/step - loss: 0.0059 - val_loss: 0.0062\n",
      "Epoch 36/50\n",
      "165/165 [==============================] - 1s 6ms/step - loss: 0.0058 - val_loss: 0.0065\n",
      "Epoch 37/50\n",
      "165/165 [==============================] - 1s 6ms/step - loss: 0.0061 - val_loss: 0.0063\n",
      "Epoch 38/50\n",
      "165/165 [==============================] - 1s 5ms/step - loss: 0.0060 - val_loss: 0.0068\n",
      "Epoch 39/50\n",
      "165/165 [==============================] - 1s 4ms/step - loss: 0.0058 - val_loss: 0.0062\n",
      "Epoch 40/50\n",
      "165/165 [==============================] - 1s 4ms/step - loss: 0.0054 - val_loss: 0.0065\n",
      "Epoch 41/50\n",
      "165/165 [==============================] - 1s 4ms/step - loss: 0.0063 - val_loss: 0.0072\n",
      "Epoch 42/50\n",
      "165/165 [==============================] - 1s 4ms/step - loss: 0.0057 - val_loss: 0.0069\n",
      "Epoch 43/50\n",
      "165/165 [==============================] - 1s 4ms/step - loss: 0.0055 - val_loss: 0.0064\n",
      "Epoch 44/50\n",
      "165/165 [==============================] - 1s 5ms/step - loss: 0.0052 - val_loss: 0.0062\n",
      "Epoch 45/50\n",
      "165/165 [==============================] - 1s 5ms/step - loss: 0.0056 - val_loss: 0.0058\n",
      "Epoch 46/50\n",
      "165/165 [==============================] - 1s 6ms/step - loss: 0.0058 - val_loss: 0.0062\n",
      "Epoch 47/50\n",
      "165/165 [==============================] - 1s 6ms/step - loss: 0.0057 - val_loss: 0.0066\n",
      "Epoch 48/50\n",
      "165/165 [==============================] - 1s 6ms/step - loss: 0.0053 - val_loss: 0.0058\n",
      "Epoch 49/50\n",
      "165/165 [==============================] - 1s 5ms/step - loss: 0.0055 - val_loss: 0.0074\n",
      "Epoch 50/50\n",
      "165/165 [==============================] - 1s 5ms/step - loss: 0.0057 - val_loss: 0.0082\n"
     ]
    }
   ],
   "source": [
    "model = tf.keras.Sequential([\n",
    "    tf.keras.layers.Dense(480, activation='relu', input_shape=X_train.shape[1:]),\n",
    "    tf.keras.layers.Dense(192, activation='relu'),\n",
    "    tf.keras.layers.Dense(32, activation='relu'),\n",
    "    tf.keras.layers.Dense(32, activation='relu'),\n",
    "    tf.keras.layers.Dense(32, activation='relu'),\n",
    "    tf.keras.layers.Dense(32, activation='relu'),\n",
    "    tf.keras.layers.Dense(1)\n",
    "])\n",
    "\n",
    "model.compile(loss=tf.keras.losses.msle, optimizer=tf.keras.optimizers.Adam())\n",
    "history = model.fit(X_train, y_train, epochs=50, validation_data=(X_valid, y_valid))"
   ]
  },
  {
   "cell_type": "code",
   "execution_count": 29,
   "metadata": {},
   "outputs": [
    {
     "data": {
      "image/png": "[encoded data removed]",
      "text/plain": [
       "<Figure size 576x360 with 1 Axes>"
      ]
     },
     "metadata": {
      "needs_background": "light"
     },
     "output_type": "display_data"
    }
   ],
   "source": [
    "import matplotlib.pyplot as plt\n",
    "pd.DataFrame(history.history).plot(figsize=(8, 5))\n",
    "plt.grid(True)"
   ]
  },
  {
   "cell_type": "code",
   "execution_count": 30,
   "metadata": {},
   "outputs": [
    {
     "name": "stdout",
     "output_type": "stream",
     "text": [
      "74/74 [==============================] - 0s 2ms/step - loss: 0.0087\n"
     ]
    }
   ],
   "source": [
    "msle_test = model.evaluate(X_test, y_test)\n",
    "X_new = X_test[:3]\n",
    "y_pred = model.predict(X_new)"
   ]
  },
  {
   "cell_type": "markdown",
   "metadata": {},
   "source": [
    "## Using checkpoint in model"
   ]
  },
  {
   "cell_type": "code",
   "execution_count": null,
   "metadata": {},
   "outputs": [],
   "source": [
    "model.compile(loss=\"msle\", optimizer='adam')\n",
    "early_stopping_cb = tf.keras.callbacks.EarlyStopping(patience=10,\n",
    "                                                  restore_best_weights=True)\n",
    "history = model.fit(X_train, y_train, epochs=100,\n",
    "                    validation_data=(X_valid, y_valid),\n",
    "                    callbacks=[checkpoint_cb, early_stopping_cb])\n",
    "mse_test = model.evaluate(X_test, y_test)"
   ]
  },
  {
   "cell_type": "code",
   "execution_count": null,
   "metadata": {},
   "outputs": [],
   "source": [
    "import matplotlib.pyplot as plt\n",
    "pd.DataFrame(history.history).plot(figsize=(8, 5))\n",
    "plt.grid(True)"
   ]
  }
 ],
 "metadata": {
  "kernelspec": {
   "display_name": "Python 3",
   "language": "python",
   "name": "python3"
  }
 },
 "nbformat": 4,
 "nbformat_minor": 4
}
